{
 "cells": [
  {
   "cell_type": "code",
   "execution_count": 9,
   "metadata": {
    "collapsed": true
   },
   "outputs": [],
   "source": [
    "import pandas as pd\n",
    "import numpy as np\n",
    "import json"
   ]
  },
  {
   "cell_type": "code",
   "execution_count": null,
   "metadata": {},
   "outputs": [],
   "source": []
  },
  {
   "cell_type": "code",
   "execution_count": 19,
   "metadata": {},
   "outputs": [
    {
     "name": "stdout",
     "output_type": "stream",
     "text": [
      "(92979, 5)\n"
     ]
    },
    {
     "data": {
      "text/html": [
       "<div>\n",
       "<table border=\"1\" class=\"dataframe\">\n",
       "  <thead>\n",
       "    <tr style=\"text-align: right;\">\n",
       "      <th></th>\n",
       "      <th>main_text</th>\n",
       "      <th>pubtime</th>\n",
       "      <th>title</th>\n",
       "      <th>topic</th>\n",
       "      <th>url</th>\n",
       "    </tr>\n",
       "  </thead>\n",
       "  <tbody>\n",
       "    <tr>\n",
       "      <th>92974</th>\n",
       "      <td>INTEL finally announced the name of its next p...</td>\n",
       "      <td>1999-01-14T15:51:05-0500</td>\n",
       "      <td>A week in view</td>\n",
       "      <td>Technology</td>\n",
       "      <td>https://www.theguardian.com/technology/1999/ja...</td>\n",
       "    </tr>\n",
       "    <tr>\n",
       "      <th>92975</th>\n",
       "      <td>Cheating and Australia. The two words are snug...</td>\n",
       "      <td>1999-01-14T15:51:11-0500</td>\n",
       "      <td>Micro lites</td>\n",
       "      <td>Technology</td>\n",
       "      <td>https://www.theguardian.com/technology/1999/ja...</td>\n",
       "    </tr>\n",
       "    <tr>\n",
       "      <th>92976</th>\n",
       "      <td>What's in a name? When it is a name like www.y...</td>\n",
       "      <td>1999-01-14T15:51:13-0500</td>\n",
       "      <td>Working it out: so you want to use the Net?</td>\n",
       "      <td>Technology</td>\n",
       "      <td>https://www.theguardian.com/technology/1999/ja...</td>\n",
       "    </tr>\n",
       "    <tr>\n",
       "      <th>92977</th>\n",
       "      <td>Fancy some action? But genuine action - not so...</td>\n",
       "      <td>1999-01-14T15:51:20-0500</td>\n",
       "      <td>Computing and the Net: Mission to explain</td>\n",
       "      <td>Technology</td>\n",
       "      <td>https://www.theguardian.com/technology/1999/ja...</td>\n",
       "    </tr>\n",
       "    <tr>\n",
       "      <th>92978</th>\n",
       "      <td>THE new iMac computer that Apple boss Steve Jo...</td>\n",
       "      <td>1999-01-14T15:51:22-0500</td>\n",
       "      <td>Computerwatch</td>\n",
       "      <td>Technology</td>\n",
       "      <td>https://www.theguardian.com/technology/1999/ja...</td>\n",
       "    </tr>\n",
       "  </tbody>\n",
       "</table>\n",
       "</div>"
      ],
      "text/plain": [
       "                                               main_text  \\\n",
       "92974  INTEL finally announced the name of its next p...   \n",
       "92975  Cheating and Australia. The two words are snug...   \n",
       "92976  What's in a name? When it is a name like www.y...   \n",
       "92977  Fancy some action? But genuine action - not so...   \n",
       "92978  THE new iMac computer that Apple boss Steve Jo...   \n",
       "\n",
       "                        pubtime                                        title  \\\n",
       "92974  1999-01-14T15:51:05-0500                               A week in view   \n",
       "92975  1999-01-14T15:51:11-0500                                  Micro lites   \n",
       "92976  1999-01-14T15:51:13-0500  Working it out: so you want to use the Net?   \n",
       "92977  1999-01-14T15:51:20-0500    Computing and the Net: Mission to explain   \n",
       "92978  1999-01-14T15:51:22-0500                                Computerwatch   \n",
       "\n",
       "            topic                                                url  \n",
       "92974  Technology  https://www.theguardian.com/technology/1999/ja...  \n",
       "92975  Technology  https://www.theguardian.com/technology/1999/ja...  \n",
       "92976  Technology  https://www.theguardian.com/technology/1999/ja...  \n",
       "92977  Technology  https://www.theguardian.com/technology/1999/ja...  \n",
       "92978  Technology  https://www.theguardian.com/technology/1999/ja...  "
      ]
     },
     "execution_count": 19,
     "metadata": {},
     "output_type": "execute_result"
    }
   ],
   "source": [
    "files = ['200','400','600','800','1000','1200','1400','1600','1800','2000','2200','2400','2600','2661']\n",
    "data1 = []\n",
    "for f in files:\n",
    "    lines = open('./tech_news'+f +'.json', 'rb').readlines()\n",
    "    data1.extend([json.loads(elem.decode(\"utf-8\")) for elem in lines])\n",
    "data1 = pd.DataFrame(data1)\n",
    "print(data1.shape)    \n",
    "data1.tail()"
   ]
  },
  {
   "cell_type": "code",
   "execution_count": 16,
   "metadata": {},
   "outputs": [
    {
     "data": {
      "text/plain": [
       "0"
      ]
     },
     "execution_count": 16,
     "metadata": {},
     "output_type": "execute_result"
    }
   ],
   "source": [
    "data1 = []\n",
    "lines = open('./tech_news'+'400' +'.json', 'rb').readlines()\n",
    "data1.extend([json.loads(elem.decode(\"utf-8\")) for elem in lines])\n",
    "len(data1)"
   ]
  },
  {
   "cell_type": "code",
   "execution_count": 18,
   "metadata": {},
   "outputs": [
    {
     "data": {
      "text/plain": [
       "[]"
      ]
     },
     "execution_count": 18,
     "metadata": {},
     "output_type": "execute_result"
    }
   ],
   "source": [
    "open('./tech_news400.json', 'rb').readlines()"
   ]
  },
  {
   "cell_type": "code",
   "execution_count": 6,
   "metadata": {},
   "outputs": [
    {
     "name": "stdout",
     "output_type": "stream",
     "text": [
      "(55533, 5)\n"
     ]
    },
    {
     "data": {
      "text/html": [
       "<div>\n",
       "<table border=\"1\" class=\"dataframe\">\n",
       "  <thead>\n",
       "    <tr style=\"text-align: right;\">\n",
       "      <th></th>\n",
       "      <th>main_text</th>\n",
       "      <th>pubtime</th>\n",
       "      <th>title</th>\n",
       "      <th>topic</th>\n",
       "      <th>url</th>\n",
       "    </tr>\n",
       "  </thead>\n",
       "  <tbody>\n",
       "    <tr>\n",
       "      <th>55531</th>\n",
       "      <td>Just six months after Dave Lewis, the boss of ...</td>\n",
       "      <td>2016-05-14</td>\n",
       "      <td>Mike Ashley will meet MPs on condition they vi...</td>\n",
       "      <td>Supermarkets|Retail industry|Serious Fraud Off...</td>\n",
       "      <td>https://www.theguardian.com/business/2016/may/...</td>\n",
       "    </tr>\n",
       "    <tr>\n",
       "      <th>55532</th>\n",
       "      <td>A major shortage of lorry drivers could pose a...</td>\n",
       "      <td>2015-10-25</td>\n",
       "      <td>Thousands of Morrisons staff to sue supermarke...</td>\n",
       "      <td>Christmas|Online shopping|Shops and shopping|R...</td>\n",
       "      <td>https://www.theguardian.com/world/2015/oct/25/...</td>\n",
       "    </tr>\n",
       "  </tbody>\n",
       "</table>\n",
       "</div>"
      ],
      "text/plain": [
       "                                               main_text     pubtime  \\\n",
       "55531  Just six months after Dave Lewis, the boss of ...  2016-05-14   \n",
       "55532  A major shortage of lorry drivers could pose a...  2015-10-25   \n",
       "\n",
       "                                                   title  \\\n",
       "55531  Mike Ashley will meet MPs on condition they vi...   \n",
       "55532  Thousands of Morrisons staff to sue supermarke...   \n",
       "\n",
       "                                                   topic  \\\n",
       "55531  Supermarkets|Retail industry|Serious Fraud Off...   \n",
       "55532  Christmas|Online shopping|Shops and shopping|R...   \n",
       "\n",
       "                                                     url  \n",
       "55531  https://www.theguardian.com/business/2016/may/...  \n",
       "55532  https://www.theguardian.com/world/2015/oct/25/...  "
      ]
     },
     "execution_count": 6,
     "metadata": {},
     "output_type": "execute_result"
    }
   ],
   "source": [
    "data2 = []\n",
    "files = ['BankingNews.json','EconomicsNews.json','EuroNews.json','MarketsNews.json','RetailNews.json']\n",
    "for f in files:\n",
    "    lines = open('./business/'+f, 'rb').readlines()\n",
    "    data2.extend([json.loads(elem.decode(\"utf-8\")) for elem in lines])\n",
    "    \n",
    "data2 = pd.DataFrame(data2)\n",
    "print(data2.shape)\n",
    "data2.tail(2)"
   ]
  },
  {
   "cell_type": "code",
   "execution_count": null,
   "metadata": {
    "collapsed": true
   },
   "outputs": [],
   "source": []
  }
 ],
 "metadata": {
  "kernelspec": {
   "display_name": "Python 3",
   "language": "python",
   "name": "python3"
  },
  "language_info": {
   "codemirror_mode": {
    "name": "ipython",
    "version": 3
   },
   "file_extension": ".py",
   "mimetype": "text/x-python",
   "name": "python",
   "nbconvert_exporter": "python",
   "pygments_lexer": "ipython3",
   "version": "3.5.1"
  }
 },
 "nbformat": 4,
 "nbformat_minor": 2
}
