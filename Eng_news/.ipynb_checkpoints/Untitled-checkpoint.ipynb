{
 "cells": [
  {
   "cell_type": "code",
   "execution_count": 19,
   "metadata": {
    "collapsed": true
   },
   "outputs": [],
   "source": [
    "import pandas as pd\n",
    "import numpy as np\n",
    "import json"
   ]
  },
  {
   "cell_type": "code",
   "execution_count": 26,
   "metadata": {},
   "outputs": [
    {
     "name": "stdout",
     "output_type": "stream",
     "text": [
      "(34, 7)\n"
     ]
    },
    {
     "data": {
      "text/html": [
       "<div>\n",
       "<table border=\"1\" class=\"dataframe\">\n",
       "  <thead>\n",
       "    <tr style=\"text-align: right;\">\n",
       "      <th></th>\n",
       "      <th>comment_num</th>\n",
       "      <th>main_text</th>\n",
       "      <th>pubtime</th>\n",
       "      <th>share_num</th>\n",
       "      <th>title</th>\n",
       "      <th>topic</th>\n",
       "      <th>url</th>\n",
       "    </tr>\n",
       "  </thead>\n",
       "  <tbody>\n",
       "    <tr>\n",
       "      <th>0</th>\n",
       "      <td>NaN</td>\n",
       "      <td>Video from\\nshows the moment a curious white s...</td>\n",
       "      <td>2017-08-02T12:51:02+0100</td>\n",
       "      <td>3</td>\n",
       "      <td>Jaws checking: curious shark puts GoPro in mou...</td>\n",
       "      <td>Sharks</td>\n",
       "      <td>https://www.theguardian.com/environment/video/...</td>\n",
       "    </tr>\n",
       "  </tbody>\n",
       "</table>\n",
       "</div>"
      ],
      "text/plain": [
       "   comment_num                                          main_text  \\\n",
       "0          NaN  Video from\\nshows the moment a curious white s...   \n",
       "\n",
       "                    pubtime  share_num  \\\n",
       "0  2017-08-02T12:51:02+0100          3   \n",
       "\n",
       "                                               title   topic  \\\n",
       "0  Jaws checking: curious shark puts GoPro in mou...  Sharks   \n",
       "\n",
       "                                                 url  \n",
       "0  https://www.theguardian.com/environment/video/...  "
      ]
     },
     "execution_count": 26,
     "metadata": {},
     "output_type": "execute_result"
    }
   ],
   "source": [
    "f = open('./US_news.json', 'rb')\n",
    "test = f.readlines()\n",
    "l = [json.loads(l.decode(\"utf-8\")) for l in test]\n",
    "data = pd.DataFrame(l)\n",
    "print(data.shape)\n",
    "data.head(1)"
   ]
  },
  {
   "cell_type": "code",
   "execution_count": 30,
   "metadata": {},
   "outputs": [
    {
     "name": "stdout",
     "output_type": "stream",
     "text": [
      "(70, 7)\n"
     ]
    },
    {
     "data": {
      "text/html": [
       "<div>\n",
       "<table border=\"1\" class=\"dataframe\">\n",
       "  <thead>\n",
       "    <tr style=\"text-align: right;\">\n",
       "      <th></th>\n",
       "      <th>comment_num</th>\n",
       "      <th>main_text</th>\n",
       "      <th>pubtime</th>\n",
       "      <th>share_num</th>\n",
       "      <th>title</th>\n",
       "      <th>topic</th>\n",
       "      <th>url</th>\n",
       "    </tr>\n",
       "  </thead>\n",
       "  <tbody>\n",
       "    <tr>\n",
       "      <th>0</th>\n",
       "      <td>0</td>\n",
       "      <td>JP Morgan just had the most profitable 12 mont...</td>\n",
       "      <td>2017-07-15</td>\n",
       "      <td>12730</td>\n",
       "      <td>JP Morgan chief blasts US dysfunction: 'It's a...</td>\n",
       "      <td>Donald Trump|Banking|US politics|news</td>\n",
       "      <td>https://www.theguardian.com/business/2017/jul/...</td>\n",
       "    </tr>\n",
       "  </tbody>\n",
       "</table>\n",
       "</div>"
      ],
      "text/plain": [
       "   comment_num                                          main_text     pubtime  \\\n",
       "0            0  JP Morgan just had the most profitable 12 mont...  2017-07-15   \n",
       "\n",
       "   share_num                                              title  \\\n",
       "0      12730  JP Morgan chief blasts US dysfunction: 'It's a...   \n",
       "\n",
       "                                   topic  \\\n",
       "0  Donald Trump|Banking|US politics|news   \n",
       "\n",
       "                                                 url  \n",
       "0  https://www.theguardian.com/business/2017/jul/...  "
      ]
     },
     "execution_count": 30,
     "metadata": {},
     "output_type": "execute_result"
    }
   ],
   "source": [
    "f = open('./BankingNews.json', 'rb')\n",
    "test = f.readlines()\n",
    "l = [json.loads(l.decode(\"utf-8\")) for l in test]\n",
    "data = pd.DataFrame(l)\n",
    "print(data.shape)\n",
    "data.head(1)"
   ]
  },
  {
   "cell_type": "code",
   "execution_count": 31,
   "metadata": {},
   "outputs": [
    {
     "name": "stdout",
     "output_type": "stream",
     "text": [
      "(70, 7)\n"
     ]
    },
    {
     "data": {
      "text/html": [
       "<div>\n",
       "<table border=\"1\" class=\"dataframe\">\n",
       "  <thead>\n",
       "    <tr style=\"text-align: right;\">\n",
       "      <th></th>\n",
       "      <th>comment_num</th>\n",
       "      <th>main_text</th>\n",
       "      <th>pubtime</th>\n",
       "      <th>share_num</th>\n",
       "      <th>title</th>\n",
       "      <th>topic</th>\n",
       "      <th>url</th>\n",
       "    </tr>\n",
       "  </thead>\n",
       "  <tbody>\n",
       "    <tr>\n",
       "      <th>0</th>\n",
       "      <td>178</td>\n",
       "      <td>Ross Jennings is a fan of John West canned tun...</td>\n",
       "      <td>2017-07-15</td>\n",
       "      <td>1087</td>\n",
       "      <td>A weighty issue: is there something fishy abou...</td>\n",
       "      <td>Consumer rights|Supermarkets|Food &amp; drink|Reta...</td>\n",
       "      <td>https://www.theguardian.com/money/2017/jul/15/...</td>\n",
       "    </tr>\n",
       "  </tbody>\n",
       "</table>\n",
       "</div>"
      ],
      "text/plain": [
       "   comment_num                                          main_text     pubtime  \\\n",
       "0          178  Ross Jennings is a fan of John West canned tun...  2017-07-15   \n",
       "\n",
       "   share_num                                              title  \\\n",
       "0       1087  A weighty issue: is there something fishy abou...   \n",
       "\n",
       "                                               topic  \\\n",
       "0  Consumer rights|Supermarkets|Food & drink|Reta...   \n",
       "\n",
       "                                                 url  \n",
       "0  https://www.theguardian.com/money/2017/jul/15/...  "
      ]
     },
     "execution_count": 31,
     "metadata": {},
     "output_type": "execute_result"
    }
   ],
   "source": [
    "f = open('./RetailNews.json', 'rb')\n",
    "test = f.readlines()\n",
    "l = [json.loads(l.decode(\"utf-8\")) for l in test]\n",
    "data = pd.DataFrame(l)\n",
    "print(data.shape)\n",
    "data.head(1)"
   ]
  },
  {
   "cell_type": "code",
   "execution_count": null,
   "metadata": {
    "collapsed": true
   },
   "outputs": [],
   "source": []
  }
 ],
 "metadata": {
  "kernelspec": {
   "display_name": "Python 3",
   "language": "python",
   "name": "python3"
  },
  "language_info": {
   "codemirror_mode": {
    "name": "ipython",
    "version": 3
   },
   "file_extension": ".py",
   "mimetype": "text/x-python",
   "name": "python",
   "nbconvert_exporter": "python",
   "pygments_lexer": "ipython3",
   "version": "3.5.1"
  }
 },
 "nbformat": 4,
 "nbformat_minor": 2
}
